{
 "cells": [
  {
   "cell_type": "markdown",
   "metadata": {
    "id": "TJAw2i5R--35"
   },
   "source": [
    "# Alpha-Fold Metainference for structural ensemble prediction of a partially disordered protein."
   ]
  },
  {
   "cell_type": "code",
   "execution_count": null,
   "metadata": {
    "colab": {
     "base_uri": "https://localhost:8080/"
    },
    "id": "wsxP-IYiGvRS",
    "outputId": "2e61068f-c5f6-410b-ea51-2f8184278a5b"
   },
   "outputs": [],
   "source": [
    "!pwd"
   ]
  },
  {
   "cell_type": "markdown",
   "metadata": {
    "id": "tldvWtR3-UUU"
   },
   "source": [
    "### Only run the following cell if you are in Google Colab"
   ]
  },
  {
   "cell_type": "code",
   "execution_count": null,
   "metadata": {
    "colab": {
     "base_uri": "https://localhost:8080/"
    },
    "id": "cKltGiOq83D6",
    "outputId": "3280828b-5bed-4471-8da4-203c08c5ef01"
   },
   "outputs": [],
   "source": [
    "#Install collab\n",
    "!pip install -q condacolab\n",
    "import condacolab\n",
    "condacolab.install()"
   ]
  },
  {
   "cell_type": "markdown",
   "metadata": {},
   "source": [
    "### Install dependencies "
   ]
  },
  {
   "cell_type": "code",
   "execution_count": null,
   "metadata": {
    "colab": {
     "base_uri": "https://localhost:8080/"
    },
    "id": "IEoUV3EKaPUz",
    "outputId": "ef44af46-e7fe-45f5-96fa-80b1a3ae12fa"
   },
   "outputs": [],
   "source": [
    "import os\n",
    "home=os.getcwd()\n",
    "os.chdir(home)\n",
    "\n",
    "#Download OpenMM-Plumed-MPI patch\n",
    "!conda install -y -c conda-forge mpich mpi4py openmm=8.0 plumed=2.8.2=mpi_mpich_h7ded119_0 py-plumed cmake swig pandas mdtraj biopython matplotlib gromacs\n",
    "!conda install -y -c anaconda ipykernel\n",
    "!conda install -y -c bioconda pulchra\n",
    "\n",
    "!git clone https://github.com/vendruscolo-lab/OpenMM-Plumed-MPI\n",
    "\n",
    "os.chdir(home+'/OpenMM-Plumed-MPI')\n",
    "\n",
    "#Build openmm-plumed-mpi\n",
    "!mkdir build install openmm -p plumed/include -p plumed/lib\n",
    "!unzip openmm.zip -d openmm\n",
    "!unzip plumed_lib.zip -d plumed/lib\n",
    "!unzip plumed_include.zip -d plumed/include\n",
    "os.chdir(os.getcwd()+'/build')\n",
    "!cmake ..\n",
    "!make\n",
    "!make install\n",
    "!make PythonInstall\n",
    "os.chdir(os.getcwd()+'/../install/lib')\n",
    "!cp -r * /usr/local/lib/"
   ]
  },
  {
   "cell_type": "code",
   "execution_count": null,
   "metadata": {
    "colab": {
     "base_uri": "https://localhost:8080/"
    },
    "id": "jPGHmPOS8kFL",
    "outputId": "ce60e894-fe56-4a98-96f0-44f1628d7428"
   },
   "outputs": [],
   "source": [
    "!pwd"
   ]
  },
  {
   "cell_type": "markdown",
   "metadata": {
    "id": "vaE74PSo_cq_"
   },
   "source": [
    "# Run Alpha-Fold distance map prediction\n",
    "\n",
    "\n",
    "__For this example (TDP-43 WtoA):__\n",
    "\n",
    "The AF distance map has already been calculated and it is loaded in this notebook below.\n",
    "\n",
    "__For arbitrary protein sequences:__\n",
    "\n",
    "*   Open [this](https://github.com/zshengyu14/ColabFold_distmats/blob/main/AlphaFold2.ipynb) link and chose colab.\n",
    "*   Input the protein sequence  as query sequence.\n",
    "*   The rest of the options remain default and cells are run until the end.\n",
    "*   Download the link with the AF data and upload it as AF_data in AlphaFold-IDP folder"
   ]
  },
  {
   "cell_type": "markdown",
   "metadata": {
    "id": "qUxcx5HRQ7CZ"
   },
   "source": [
    "# Setup protein system in CALVADOS and OPENMM"
   ]
  },
  {
   "cell_type": "code",
   "execution_count": null,
   "metadata": {
    "colab": {
     "base_uri": "https://localhost:8080/"
    },
    "id": "LG3YfCn2XpgZ",
    "outputId": "07ce4a1b-325f-44c9-a490-75164dac6c07"
   },
   "outputs": [],
   "source": [
    "os.chdir(home)\n",
    "!git clone https://github.com/vendruscolo-lab/AlphaFold-IDP"
   ]
  },
  {
   "cell_type": "code",
   "execution_count": null,
   "metadata": {
    "id": "_-LmH2G_X9NF"
   },
   "outputs": [],
   "source": [
    "os.chdir(home+'/AlphaFold-IDP/prep_run')"
   ]
  },
  {
   "cell_type": "code",
   "execution_count": null,
   "metadata": {
    "colab": {
     "base_uri": "https://localhost:8080/"
    },
    "id": "ccmy6TQdZoJ0",
    "outputId": "1472f1fb-79cf-437b-9cf9-10109200bcb4"
   },
   "outputs": [],
   "source": [
    "import shutil\n",
    "import csv\n",
    "dir=os.getcwd()\n",
    "###################### The entries below need to be adapted in eac simulation ######################\n",
    "#TDP-43 sequence\n",
    "fasta_sequence=\"MSEYIRVTEDENDEPIEIPSEDDGTVLLSTVTAQFPGACGLRYRNPVSQCMRGVRLVEGILHAPDAGAGNLVYVVNYPKDNKRKMDETDASSAVKVKRAVQKTSDLIVLGLPAKTTEQDLKEYFSTFGEVLMVQVKKDLKTGHSKGFGFVRFTEYETQVKVMSQRHMIDGRACDCKLPNSKQSQDEPLRSRKVFVGRCTEDMTEDELREFFSQYGDVMDVFIPKPFRAFAFVTFADDQIAQSLCGEDLIIKGISVHISNAEPKHNSNRQLERSGRFGGNPGGFGNQGGFGNSRGGGAGLGNNQGSNMGGGMNFGAFSINPAMMAAAQAALQSSAGMMGMLASQQNQSGPSGNNQNQGNMQREPNQAFGSGNNSYSGSNSGAAIGAGSASNAGSGSGFNGGFGSSMDSKSSGAGM\"\n",
    "#Conditions\n",
    "pH=7.4\n",
    "temp=298\n",
    "ionic=0.2\n",
    "PAE_cut=5\n",
    "Pr_cut=0.2\n",
    "NR=2\n",
    "#Decide the plddt based ordered (od) and disordered (dd) regions\n",
    "ordered_domains = {'od1': [3, 79], 'od2': [104,178],'od3':[191,260]}\n",
    "disordered_domains={'dd1': [1,2],'dd2':[80,103],'dd3':[179,190],'dd4':[261,414]}\n",
    "\n",
    "#AF input created in AF-distance map prediction and used in AF-MI\n",
    "pdb_af='tdp43_WtoA_bf4cc_unrelaxed_rank_001_alphafold2_ptm_model_3_seed_000.pdb'\n",
    "json_af='tdp43_WtoA_bf4cc_predicted_aligned_error_v1.json'\n",
    "npy_af='alphafold2_ptm_model_3_seed_000_prob_distributions.npy'\n",
    "mean_af='alphafold2_ptm_model_3_seed_000_mean.csv'\n",
    "#Copy AF data\n",
    "shutil.copy2(dir+\"/../AF_DATA/\"+pdb_af, dir+\"/pdb_af.pdb\")\n",
    "shutil.copy2(dir+\"/../AF_DATA/\"+json_af, dir+\"/pae.json\")\n",
    "shutil.copy2(dir+\"/../AF_DATA/tdp43_WtoA_bf4cc_distmat/\"+mean_af, dir+\"/mean_af.csv\")\n",
    "shutil.copy2(dir+\"/../AF_DATA/tdp43_WtoA_bf4cc_distmat/\"+npy_af, dir+\"/prob.npy\")\n",
    "####################################################################################################\n",
    "\n",
    "f = open(\"sequence.dat\", \"w\")\n",
    "f.write(fasta_sequence)\n",
    "f.close()\n",
    "#Write the csv files\n",
    "with open('ordered_domains.csv', 'w') as f:  # You will need 'wb' mode in Python 2.x\n",
    "    w = csv.DictWriter(f, ordered_domains.keys())\n",
    "    w.writeheader()\n",
    "    w.writerow(ordered_domains)\n",
    "with open('disordered_domains.csv', 'w') as f:  # You will need 'wb' mode in Python 2.x\n",
    "    w = csv.DictWriter(f, disordered_domains.keys())\n",
    "    w.writeheader()\n",
    "    w.writerow(disordered_domains)\n",
    "\n",
    "#Copy OPENMM calvados forcefield files\n",
    "shutil.copy2(dir+\"/../scripts_prep/gen_xml_and_constraints.py\", dir)\n",
    "shutil.copy2(dir+\"/../scripts_prep/residues.csv\", dir)\n",
    "\n",
    "path_gen_xml = dir+'/gen_xml_and_constraints.py sequence.dat '+str(pH)+' '+str(temp)+' '+str(ionic)\n",
    "print(path_gen_xml)\n",
    "os.system(f'python {path_gen_xml}')\n",
    "\n"
   ]
  },
  {
   "cell_type": "code",
   "execution_count": null,
   "metadata": {
    "colab": {
     "base_uri": "https://localhost:8080/"
    },
    "id": "5kf89j5nEOQB",
    "outputId": "30dfcbf0-f44e-48bf-ca2f-fed09dddc848"
   },
   "outputs": [],
   "source": [
    "#Make plumed files.\n",
    "#Copy and run the prep script that makes the plumed file.\n",
    "#The Collective variables (CVs) in these case are chosen to be the torsion angles between structured domains.\n",
    "import subprocess\n",
    "shutil.copy2(dir+\"/../scripts_prep/make_plumed_distmat.py\", dir)\n",
    "subprocess.run(['python', str(dir)+'/make_plumed_distmat.py', 'sequence.dat',str(PAE_cut), str(Pr_cut)], capture_output=True, text=True)"
   ]
  },
  {
   "cell_type": "code",
   "execution_count": null,
   "metadata": {
    "colab": {
     "base_uri": "https://localhost:8080/"
    },
    "id": "it_ub0Bnfl7-",
    "outputId": "24b52778-5bdc-435c-cc0a-5d841855a7ff"
   },
   "outputs": [],
   "source": [
    "!cat plumed.dat"
   ]
  },
  {
   "cell_type": "code",
   "execution_count": null,
   "metadata": {
    "colab": {
     "base_uri": "https://localhost:8080/"
    },
    "id": "IpMNAoU2aOU8",
    "outputId": "1564bfeb-5576-4f07-b5f5-9ab343d43723"
   },
   "outputs": [],
   "source": [
    "#Make the plumed_analysis.dat file\n",
    "shutil.copy2(dir+\"/../scripts_prep/make_plumed_analysis.py\", dir)\n",
    "path_gen_analysis = dir+'/make_plumed_analysis.py sequence.dat'\n",
    "os.system(f'python {path_gen_analysis}')\n",
    "\n"
   ]
  },
  {
   "cell_type": "markdown",
   "metadata": {
    "id": "n3WNC05qLOLQ"
   },
   "source": [
    "__Note:__ that users needs to fill in the respective PLUMED (_ _FILL _ _) PBMETAD and Metainference parameters according to the problem in need.\n",
    "\n",
    "__Note:__ This tutorial assumes that you know [Parallel Bias Metadynamics](https://www.plumed.org/doc-v2.9/user-doc/html/_p_b_m_e_t_a_d.html) and [Metainference](https://link.springer.com/content/pdf/10.1007/978-1-4939-9608-7_13.pdf) theory and practice.\n"
   ]
  },
  {
   "cell_type": "markdown",
   "metadata": {
    "id": "u3tSO7aJS5jI"
   },
   "source": [
    "### In case you are running the TDP-43 WtoA example:\n",
    "\n",
    "You can directly use the PBMetaD and Metainference parameters just as copied below by executing the next shell. Otherwise you need to define your system specific parameters."
   ]
  },
  {
   "cell_type": "code",
   "execution_count": null,
   "metadata": {
    "colab": {
     "base_uri": "https://localhost:8080/",
     "height": 38
    },
    "id": "q4io52NaOYBG",
    "outputId": "c1de4b63-34fc-4458-f207-f799bad9e7a6"
   },
   "outputs": [],
   "source": [
    "shutil.copy2(dir+\"/../scripts_prep/plumed_TDP-43.dat\", dir+'/plumed.dat')\n",
    "shutil.copy2(dir+\"/../scripts_prep/plumed_analysis_TDP-43.dat\", dir+'/plumed_analysis.dat')\n"
   ]
  },
  {
   "cell_type": "markdown",
   "metadata": {
    "id": "oz_V3ROb_8iM"
   },
   "source": [
    "# Energy minimization"
   ]
  },
  {
   "cell_type": "code",
   "execution_count": null,
   "metadata": {
    "colab": {
     "base_uri": "https://localhost:8080/"
    },
    "id": "sYcjRva1aQ35",
    "outputId": "78dee631-c87c-4134-863e-98a37aeb571b"
   },
   "outputs": [],
   "source": [
    "#Activate the conda openmm-plumed environment\n",
    "shutil.copy2(dir+\"/../scripts_prep/simulate_em.py\", dir)\n",
    "#First run a short minimization\n",
    "simulate_em = dir+'/simulate_em.py '+str(pH)+' '+str(temp)\n",
    "\n",
    "os.system(f'python {simulate_em}')\n",
    "\n"
   ]
  },
  {
   "cell_type": "markdown",
   "metadata": {
    "id": "wggydBtFaXe8"
   },
   "source": [
    "# Run AF-MI"
   ]
  },
  {
   "cell_type": "code",
   "execution_count": null,
   "metadata": {
    "colab": {
     "base_uri": "https://localhost:8080/"
    },
    "id": "N8NqXSIDaXs5",
    "outputId": "ddbfd02a-3967-40f0-bbca-37830c357914"
   },
   "outputs": [],
   "source": [
    "#and run AF-MI\n",
    "shutil.copy2(dir+\"/../scripts_prep/simulate.py\", dir)\n",
    "print(dir)\n",
    "#simulate= dir+'/simulate.py '+str(pH)+' '+str(temp)\n",
    "#os.system(f'mpirun -np 6 python  {simulate}')\n",
    "##param1 = \"value1\" param2 = \"value2\" !python script.py {param1} {param2}\n",
    "\n",
    "!mpirun -np {NR} python simulate.py {pH} {temp}"
   ]
  },
  {
   "cell_type": "code",
   "execution_count": null,
   "metadata": {
    "colab": {
     "base_uri": "https://localhost:8080/"
    },
    "id": "JoC0TkksbZlD",
    "outputId": "3126cb7f-1adb-48e7-dbc5-9c0ab3353b29"
   },
   "outputs": [],
   "source": [
    "!tail COLVAR.1"
   ]
  },
  {
   "cell_type": "markdown",
   "metadata": {
    "id": "cuESrrLnasAN"
   },
   "source": [
    "# Analysis"
   ]
  },
  {
   "cell_type": "code",
   "execution_count": null,
   "metadata": {
    "colab": {
     "base_uri": "https://localhost:8080/"
    },
    "id": "Q2pwlRn0aDAi",
    "outputId": "fcdc3c36-af1f-4dac-d7ff-f4a212666cbd"
   },
   "outputs": [],
   "source": [
    "!cp ../scripts_prep/* .\n",
    "\n",
    "!zip files.zip script.sh  pulchra.sh pulchra.py  backmap.py simulate*.py  dcd2xtc.py plumed_analysis.dat reconstruct.dat  resample.py  fes2.py  sequence.dat plumed.dat struct*pdb input_af.pdb r1_excl.pkl forcefield.xml residues.csv *npy *mean*csv pdb_af.pdb  keepH.sh\n",
    "\n",
    "!mkdir analysis\n",
    "!cp files.zip analysis/\n",
    "os.chdir(dir+\"/analysis\")\n",
    "!unzip files.zip"
   ]
  },
  {
   "cell_type": "markdown",
   "metadata": {
    "id": "f9rE7_T_ustY"
   },
   "source": [
    "Generate the atomistic structural ensemble"
   ]
  },
  {
   "cell_type": "code",
   "execution_count": null,
   "metadata": {
    "colab": {
     "base_uri": "https://localhost:8080/"
    },
    "id": "wr8vswoEa4UJ",
    "outputId": "b69c881c-29e1-4134-8663-1ddd3ea335aa"
   },
   "outputs": [],
   "source": [
    "!pwd\n",
    "!chmod 755 script.sh\n",
    "!./script.sh {NR}\n",
    "#The final atomistic structural ensemble.\n",
    "!ls segment_5_input_af_rebuilt.xtc"
   ]
  },
  {
   "cell_type": "markdown",
   "metadata": {
    "id": "raauwB6pu4Ow"
   },
   "source": [
    "Generate the FES along collective variables"
   ]
  },
  {
   "cell_type": "code",
   "execution_count": null,
   "metadata": {
    "colab": {
     "base_uri": "https://localhost:8080/"
    },
    "id": "1wb_F6Znr6hQ",
    "outputId": "1dac02d4-6b46-4cee-db4e-4ff3e4e335d7"
   },
   "outputs": [],
   "source": [
    "#Time depentent FES\n",
    "#For other proteins the entries CV1,CV2,CV3 etc need to follow the COLVAR columns like:\n",
    "#for i in $(echo CV1 CV2 CV3 etc);do\n",
    "!num=1\n",
    "## For TDP-43 WtoA\n",
    "!for i in $(echo Rg Rg1 Rg2 Rg3 Rg4 torsion1 torsion2 RMSD1 RMSD2 RMSD3);do python fes2.py --CV_col $num --CV_name $i ; num=$((num+1)) ; echo $num; done"
   ]
  },
  {
   "cell_type": "markdown",
   "metadata": {
    "id": "IN7r9g3qy5tS"
   },
   "source": [
    "Root mean square fluctuations per residue"
   ]
  },
  {
   "cell_type": "code",
   "execution_count": null,
   "metadata": {
    "colab": {
     "base_uri": "https://localhost:8080/",
     "height": 1000
    },
    "id": "01eVJTZBygvx",
    "outputId": "4c8295a3-e946-4727-c417-8268d875f798"
   },
   "outputs": [],
   "source": [
    "!echo \"0\" |gmx rmsf -f segment_5_input_af_rebuilt.xtc -s  segment_5_input_af_0_sys.pdb -res -o rmsf.xvg\n",
    "import numpy as np\n",
    "from matplotlib import  pyplot as plt\n",
    "x=np.loadtxt(\"rmsf.xvg\",comments=['#', '$', '@'])[:, 0]\n",
    "y=np.loadtxt(\"rmsf.xvg\",comments=['#', '$', '@'])[:, 1]\n",
    "#print(x)\n",
    "#print(y)\n",
    "fig = plt.figure()\n",
    "ax = fig.add_axes([0,0,1,1])\n",
    "ax.bar(x,y,color=\"black\",alpha=0.5)\n",
    "\n",
    "plt.yticks(fontsize=15)\n",
    "plt.xticks(fontsize=15)\n",
    "plt.xlabel('Residue',fontsize=15)\n",
    "plt.ylabel('RMSF (nm)',fontsize=15)\n",
    "ax.tick_params(axis='both', labelsize=15)\n",
    "ax.legend=None\n",
    "plt.savefig('rmsf.pdf',bbox_inches='tight')"
   ]
  },
  {
   "cell_type": "markdown",
   "metadata": {
    "id": "ve_dInJx8cgY"
   },
   "source": [
    "Download files"
   ]
  },
  {
   "cell_type": "code",
   "execution_count": null,
   "metadata": {
    "colab": {
     "base_uri": "https://localhost:8080/"
    },
    "id": "Ou1IXh628eUb",
    "outputId": "dff9f208-6573-4248-a307-1d3790d51cb2"
   },
   "outputs": [],
   "source": [
    "print(home)\n",
    "!pwd\n",
    "!rm segment_5_input_af_*.rebuilt.xtc segment_5_input_af_*.rebuilt.pdb\n",
    "!zip -r {home}/archive.zip {home}/AlphaFold-IDP/prep_run\n",
    "#!zip -r {home}/archive.zip *png ../plumed.dat plumed_analysis.dat reconstruct.dat segment_5_input_af_rebuilt.xtc segment_5_input_af_0_sys.pdb rmsf.pdf ../pae_m.png FES*png FULLBIAS COLVAR ../HILLS* ../COLVAR*"
   ]
  },
  {
   "cell_type": "code",
   "execution_count": null,
   "metadata": {
    "colab": {
     "base_uri": "https://localhost:8080/",
     "height": 38
    },
    "id": "-jA3K4CY9goW",
    "outputId": "c88db796-4655-4a21-ef93-a5c849fec388"
   },
   "outputs": [],
   "source": [
    "from google.colab import files\n",
    "files.download(home+\"/archive.zip\")\n"
   ]
  }
 ],
 "metadata": {
  "colab": {
   "provenance": []
  },
  "kernelspec": {
   "display_name": "Python 3 (ipykernel)",
   "language": "python",
   "name": "python3"
  },
  "language_info": {
   "codemirror_mode": {
    "name": "ipython",
    "version": 3
   },
   "file_extension": ".py",
   "mimetype": "text/x-python",
   "name": "python",
   "nbconvert_exporter": "python",
   "pygments_lexer": "ipython3",
   "version": "3.9.18"
  }
 },
 "nbformat": 4,
 "nbformat_minor": 1
}
